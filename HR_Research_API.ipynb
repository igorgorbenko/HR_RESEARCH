{
 "cells": [
  {
   "cell_type": "markdown",
   "metadata": {},
   "source": [
    "# <center>Анализ закрытых вакансий сайта Headhunter</center>\n",
    "##### 1. Получить список закрытых вакансий IT в Петербурге\n",
    "##### 2. Подготовить базу для анализа"
   ]
  },
  {
   "cell_type": "code",
   "execution_count": 28,
   "metadata": {},
   "outputs": [],
   "source": [
    "import http.client\n",
    "import json\n",
    "import time\n",
    "import numpy\n",
    "import re \n",
    "import datetime as dt\n",
    "from datetime import timedelta as td\n",
    "import pandas as pd\n",
    "import csv\n",
    "from pymongo import MongoClient\n",
    "import threading"
   ]
  },
  {
   "cell_type": "code",
   "execution_count": 29,
   "metadata": {},
   "outputs": [],
   "source": [
    "# Подключаю базу данных\n",
    "import sqlite3\n",
    "conn_db = sqlite3.connect('hr.db', timeout=10)\n",
    "c = conn_db.cursor()"
   ]
  },
  {
   "cell_type": "code",
   "execution_count": 30,
   "metadata": {},
   "outputs": [
    {
     "data": {
      "text/plain": [
       "<sqlite3.Cursor at 0x11ceebfc490>"
      ]
     },
     "execution_count": 30,
     "metadata": {},
     "output_type": "execute_result"
    }
   ],
   "source": [
    "# Создание таблицы историй изменения статуса вакансий \n",
    "c.execute(\"PRAGMA synchronous = OFF\")\n",
    "\n",
    "c.execute('''             \n",
    "            create table if not exists vacancy_history\n",
    "                 (\n",
    "                     id_vacancy integer, \n",
    "                     date_load text, \n",
    "                     date_from text,\n",
    "                     date_to text\n",
    "                 )\n",
    "             ''')"
   ]
  },
  {
   "cell_type": "code",
   "execution_count": 31,
   "metadata": {},
   "outputs": [],
   "source": [
    "headers = {\"User-Agent\": \"hh-recommender\"}"
   ]
  },
  {
   "cell_type": "markdown",
   "metadata": {},
   "source": [
    "В общеем, идея в следующем: \n",
    "1. собирая каждый день данные за последние 30 дней, мы получаем опубликованные вакансии за каждый день, которые на текущий момент не в архиве.\n",
    "2. Вакансия автоматом переходимт в архив, если с момента публикации прошло 30 дней\n",
    "3. Вакансия переходит в архив в **любое** время до 30 дней с момента публикации\n",
    "4. Частный случай: вакансия закрылась по истечению срока, затем была опубликована заново\n",
    "3. Делаем вывод по закрытым вакансиям за период"
   ]
  },
  {
   "cell_type": "markdown",
   "metadata": {},
   "source": [
    "### На ежедневной основе получаем массив вакансий за последние 30 дней\n",
    "1. Позволю себе немного хардкода и упрощения: сразу фильтрую только по Санкт-Петербургу (area = 2) и по Специализации - IT (specialization=1)\n",
    "2. За один запрос можно получить не более 2000 коллекций, в течение одного дня может быть больше опубликованных вакансий, поэтому запускаем за пол-дня "
   ]
  },
  {
   "cell_type": "code",
   "execution_count": 32,
   "metadata": {},
   "outputs": [],
   "source": [
    "def get_vacancy_history():\n",
    "    conn = http.client.HTTPSConnection(\"api.hh.ru\")\n",
    "    per_page = 100\n",
    "    page = 0\n",
    "    count = per_page\n",
    "    \n",
    "    count_days = 30\n",
    "    total = 0\n",
    "    cur_date = dt.datetime.now()\n",
    "    hours = 0\n",
    "    collection_for_ins = []\n",
    "        \n",
    "    while count_days >= 0:\n",
    "        \n",
    "        while hours < 24:\n",
    "            date_from = (cur_date.replace(hour=hours, minute=0, second=0) - \n",
    "                             td(days=count_days)).strftime('%Y-%m-%dT%H:%M:%S')\n",
    "\n",
    "            date_to = (cur_date.replace(hour=hours + 11, minute=59, second=59) - \n",
    "                           td(days=count_days)).strftime('%Y-%m-%dT%H:%M:%S')\n",
    "\n",
    "            while count == per_page:\n",
    "                path = (\"/vacancies?area=2&specialization=1&page={}&per_page={}&date_from={}&date_to={}\"\n",
    "                        .format(page, per_page, date_from, date_to))\n",
    "\n",
    "                conn.request(\"GET\", path, headers=headers)\n",
    "                response = conn.getresponse()\n",
    "                vacancies = response.read()\n",
    "                conn.close()\n",
    "\n",
    "                count = len(json.loads(vacancies)['items'])\n",
    "                \n",
    "                for item in json.loads(vacancies)['items']:\n",
    "                    collection_for_ins.append(\n",
    "                                                (\n",
    "                                                    item['id'],\n",
    "                                                    cur_date.strftime('%Y-%m-%dT%H:%M:%S'),\n",
    "                                                    date_from,\n",
    "                                                    date_to\n",
    "                                                )\n",
    "                                            )\n",
    "                   \n",
    "                # Вставка значений в БД\n",
    "                try:\n",
    "                    c.executemany('INSERT INTO vacancy_history VALUES (?,?,?,?)', collection_for_ins)\n",
    "                except sqlite3.DatabaseError as err:       \n",
    "                    print(\"Error: \", err)\n",
    "                else:\n",
    "                    conn_db.commit()\n",
    "\n",
    "                if collection_for_ins:\n",
    "                    page = page + 1\n",
    "                    total = total + count\n",
    "                    # обнуление массива\n",
    "                    del(collection_for_ins[:])\n",
    "\n",
    "            print(date_from, date_to, total)\n",
    "    \n",
    "            hours = hours + 12\n",
    "            total = 0\n",
    "            page = 0\n",
    "            count = per_page\n",
    "        \n",
    "        count_days = count_days - 1\n",
    "        hours = 0"
   ]
  },
  {
   "cell_type": "markdown",
   "metadata": {},
   "source": [
    "Данная процедура может быть поставлена на crontab"
   ]
  },
  {
   "cell_type": "code",
   "execution_count": 33,
   "metadata": {},
   "outputs": [
    {
     "name": "stdout",
     "output_type": "stream",
     "text": [
      "2018-07-10T00:00:00 2018-07-10T11:59:59 36\n",
      "2018-07-10T12:00:00 2018-07-10T23:59:59 70\n",
      "2018-07-11T00:00:00 2018-07-11T11:59:59 32\n",
      "2018-07-11T12:00:00 2018-07-11T23:59:59 64\n",
      "2018-07-12T00:00:00 2018-07-12T11:59:59 25\n",
      "2018-07-12T12:00:00 2018-07-12T23:59:59 77\n",
      "2018-07-13T00:00:00 2018-07-13T11:59:59 22\n",
      "2018-07-13T12:00:00 2018-07-13T23:59:59 61\n",
      "2018-07-14T00:00:00 2018-07-14T11:59:59 9\n",
      "2018-07-14T12:00:00 2018-07-14T23:59:59 5\n",
      "2018-07-15T00:00:00 2018-07-15T11:59:59 2\n",
      "2018-07-15T12:00:00 2018-07-15T23:59:59 8\n",
      "2018-07-16T00:00:00 2018-07-16T11:59:59 100\n",
      "2018-07-16T12:00:00 2018-07-16T23:59:59 239\n",
      "2018-07-17T00:00:00 2018-07-17T11:59:59 48\n",
      "2018-07-17T12:00:00 2018-07-17T23:59:59 117\n",
      "2018-07-18T00:00:00 2018-07-18T11:59:59 47\n",
      "2018-07-18T12:00:00 2018-07-18T23:59:59 117\n",
      "2018-07-19T00:00:00 2018-07-19T11:59:59 44\n",
      "2018-07-19T12:00:00 2018-07-19T23:59:59 98\n",
      "2018-07-20T00:00:00 2018-07-20T11:59:59 37\n",
      "2018-07-20T12:00:00 2018-07-20T23:59:59 109\n",
      "2018-07-21T00:00:00 2018-07-21T11:59:59 3\n",
      "2018-07-21T12:00:00 2018-07-21T23:59:59 11\n",
      "2018-07-22T00:00:00 2018-07-22T11:59:59 0\n",
      "2018-07-22T12:00:00 2018-07-22T23:59:59 6\n",
      "2018-07-23T00:00:00 2018-07-23T11:59:59 91\n",
      "2018-07-23T12:00:00 2018-07-23T23:59:59 177\n",
      "2018-07-24T00:00:00 2018-07-24T11:59:59 66\n",
      "2018-07-24T12:00:00 2018-07-24T23:59:59 127\n",
      "2018-07-25T00:00:00 2018-07-25T11:59:59 50\n",
      "2018-07-25T12:00:00 2018-07-25T23:59:59 95\n",
      "2018-07-26T00:00:00 2018-07-26T11:59:59 37\n",
      "2018-07-26T12:00:00 2018-07-26T23:59:59 129\n",
      "2018-07-27T00:00:00 2018-07-27T11:59:59 66\n",
      "2018-07-27T12:00:00 2018-07-27T23:59:59 125\n",
      "2018-07-28T00:00:00 2018-07-28T11:59:59 3\n",
      "2018-07-28T12:00:00 2018-07-28T23:59:59 6\n",
      "2018-07-29T00:00:00 2018-07-29T11:59:59 1\n",
      "2018-07-29T12:00:00 2018-07-29T23:59:59 13\n",
      "2018-07-30T00:00:00 2018-07-30T11:59:59 114\n",
      "2018-07-30T12:00:00 2018-07-30T23:59:59 186\n",
      "2018-07-31T00:00:00 2018-07-31T11:59:59 83\n",
      "2018-07-31T12:00:00 2018-07-31T23:59:59 198\n",
      "2018-08-01T00:00:00 2018-08-01T11:59:59 70\n",
      "2018-08-01T12:00:00 2018-08-01T23:59:59 195\n",
      "2018-08-02T00:00:00 2018-08-02T11:59:59 95\n",
      "2018-08-02T12:00:00 2018-08-02T23:59:59 190\n",
      "2018-08-03T00:00:00 2018-08-03T11:59:59 84\n",
      "2018-08-03T12:00:00 2018-08-03T23:59:59 225\n",
      "2018-08-04T00:00:00 2018-08-04T11:59:59 2\n",
      "2018-08-04T12:00:00 2018-08-04T23:59:59 27\n",
      "2018-08-05T00:00:00 2018-08-05T11:59:59 1\n",
      "2018-08-05T12:00:00 2018-08-05T23:59:59 17\n",
      "2018-08-06T00:00:00 2018-08-06T11:59:59 388\n",
      "2018-08-06T12:00:00 2018-08-06T23:59:59 873\n",
      "2018-08-07T00:00:00 2018-08-07T11:59:59 305\n",
      "2018-08-07T12:00:00 2018-08-07T23:59:59 576\n",
      "2018-08-08T00:00:00 2018-08-08T11:59:59 233\n",
      "2018-08-08T12:00:00 2018-08-08T23:59:59 547\n",
      "2018-08-09T00:00:00 2018-08-09T11:59:59 333\n",
      "2018-08-09T12:00:00 2018-08-09T23:59:59 161\n"
     ]
    }
   ],
   "source": [
    "get_vacancy_history()"
   ]
  },
  {
   "cell_type": "markdown",
   "metadata": {},
   "source": [
    "### Получение закрытых вакансий за период:\n",
    "\n",
    "В выборку попадают те вакансии, у которых прерывается история выгрузок\n",
    "\n",
    "Дата, слeдующая за датой последней выгрузки - это и есть дата закрытия вакансии"
   ]
  },
  {
   "cell_type": "code",
   "execution_count": 34,
   "metadata": {},
   "outputs": [],
   "source": [
    "# получение последней заты загрузки\n",
    "def get_last_day_load():\n",
    "    \n",
    "    c.execute(\"\"\"\n",
    "        select date(max(date_load))\n",
    "        from vacancy_history\n",
    "            \"\"\")\n",
    "    \n",
    "    item = c.fetchone() \n",
    "   \n",
    "    if item[0] != None:\n",
    "        return dt.datetime.strptime(item[0], '%Y-%m-%d') \n",
    "    else:\n",
    "        return None"
   ]
  },
  {
   "cell_type": "code",
   "execution_count": 35,
   "metadata": {},
   "outputs": [],
   "source": [
    "# Вакансии, закрытые за период\n",
    "def get_closed_by_period(date_in, date_out):\n",
    "    \n",
    "    last_day_out = get_last_day_load()\n",
    "   \n",
    "    if last_day_out != None:\n",
    "        if last_day_out <= date_out:\n",
    "            date_out = last_day_out - td(days=1) \n",
    "    \n",
    "    date_in = date_in.strftime('%Y-%m-%d')\n",
    "    date_out = date_out.strftime('%Y-%m-%d')\n",
    "    \n",
    "    c.execute(\"\"\"\n",
    "            select \n",
    "                    a.id_vacancy,\n",
    "                    date(a.date_load) as date_last_load,\n",
    "                    date(a.date_from) as date_publish,\n",
    "                    ifnull(a.date_next, date(a.date_load, '+1 day')) as date_close\n",
    "            from (\n",
    "                select \n",
    "                    vh1.id_vacancy,\n",
    "                    vh1.date_load,\n",
    "                    vh1.date_from,\n",
    "                    min(vh2.date_load) as date_next\n",
    "                from vacancy_history vh1\n",
    "                left join vacancy_history vh2\n",
    "                    on vh1.id_vacancy = vh2.id_vacancy\n",
    "                    and vh1.date_load < vh2.date_load\n",
    "                where date(vh1.date_load) between :date_in and :date_out\n",
    "                group by \n",
    "                    vh1.id_vacancy,\n",
    "                    vh1.date_load,\n",
    "                    vh1.date_from\n",
    "                ) as a\n",
    "            where a.date_next is null\n",
    "            \"\"\", \n",
    "              {\"date_in\" : date_in, \"date_out\" : date_out})\n",
    "    return c.fetchall()  "
   ]
  },
  {
   "cell_type": "markdown",
   "metadata": {},
   "source": [
    "Запускаем выборку по закрытым вакансиям за март 2018"
   ]
  },
  {
   "cell_type": "code",
   "execution_count": 39,
   "metadata": {},
   "outputs": [
    {
     "data": {
      "text/html": [
       "<div>\n",
       "<style scoped>\n",
       "    .dataframe tbody tr th:only-of-type {\n",
       "        vertical-align: middle;\n",
       "    }\n",
       "\n",
       "    .dataframe tbody tr th {\n",
       "        vertical-align: top;\n",
       "    }\n",
       "\n",
       "    .dataframe thead th {\n",
       "        text-align: right;\n",
       "    }\n",
       "</style>\n",
       "<table border=\"1\" class=\"dataframe\">\n",
       "  <thead>\n",
       "    <tr style=\"text-align: right;\">\n",
       "      <th></th>\n",
       "      <th>id_vacancy</th>\n",
       "      <th>date_last_load</th>\n",
       "      <th>date_publish</th>\n",
       "      <th>date_close</th>\n",
       "    </tr>\n",
       "  </thead>\n",
       "  <tbody>\n",
       "    <tr>\n",
       "      <th>0</th>\n",
       "      <td>18126697</td>\n",
       "      <td>2018-07-09</td>\n",
       "      <td>2018-07-09</td>\n",
       "      <td>2018-07-10</td>\n",
       "    </tr>\n",
       "    <tr>\n",
       "      <th>1</th>\n",
       "      <td>18146667</td>\n",
       "      <td>2018-06-28</td>\n",
       "      <td>2018-06-06</td>\n",
       "      <td>2018-06-29</td>\n",
       "    </tr>\n",
       "    <tr>\n",
       "      <th>2</th>\n",
       "      <td>18155121</td>\n",
       "      <td>2018-07-09</td>\n",
       "      <td>2018-06-19</td>\n",
       "      <td>2018-07-10</td>\n",
       "    </tr>\n",
       "    <tr>\n",
       "      <th>3</th>\n",
       "      <td>18280951</td>\n",
       "      <td>2018-06-28</td>\n",
       "      <td>2018-06-01</td>\n",
       "      <td>2018-06-29</td>\n",
       "    </tr>\n",
       "    <tr>\n",
       "      <th>4</th>\n",
       "      <td>18881605</td>\n",
       "      <td>2018-07-09</td>\n",
       "      <td>2018-07-02</td>\n",
       "      <td>2018-07-10</td>\n",
       "    </tr>\n",
       "  </tbody>\n",
       "</table>\n",
       "</div>"
      ],
      "text/plain": [
       "   id_vacancy date_last_load date_publish  date_close\n",
       "0    18126697     2018-07-09   2018-07-09  2018-07-10\n",
       "1    18146667     2018-06-28   2018-06-06  2018-06-29\n",
       "2    18155121     2018-07-09   2018-06-19  2018-07-10\n",
       "3    18280951     2018-06-28   2018-06-01  2018-06-29\n",
       "4    18881605     2018-07-09   2018-07-02  2018-07-10"
      ]
     },
     "execution_count": 39,
     "metadata": {},
     "output_type": "execute_result"
    }
   ],
   "source": [
    "date_in = dt.datetime(2018, 6, 1)\n",
    "date_out = dt.datetime(2018, 7, 31)\n",
    "\n",
    "closed_vacancies = get_closed_by_period(date_in, date_out)\n",
    "\n",
    "df = pd.DataFrame(closed_vacancies, columns = ['id_vacancy', 'date_last_load', 'date_publish', 'date_close'])\n",
    "df.head()"
   ]
  },
  {
   "cell_type": "code",
   "execution_count": 40,
   "metadata": {},
   "outputs": [
    {
     "data": {
      "text/plain": [
       "date_close\n",
       "2018-06-28     197\n",
       "2018-06-29    1495\n",
       "2018-07-10    3902\n",
       "Name: id_vacancy, dtype: int64"
      ]
     },
     "execution_count": 40,
     "metadata": {},
     "output_type": "execute_result"
    }
   ],
   "source": [
    "# Количество закрытых вакансия за каждый день\n",
    "df.groupby('date_close')['id_vacancy'].count()"
   ]
  },
  {
   "cell_type": "code",
   "execution_count": 15,
   "metadata": {},
   "outputs": [],
   "source": [
    "# Экспорт полной таблицы из БД в CSV\n",
    "data = c.execute('select * from vacancy_history')\n",
    "\n",
    "with open('vacancy_history.csv','w', newline='') as out_csv_file:\n",
    "    csv_out = csv.writer(out_csv_file)                       \n",
    "    csv_out.writerow(d[0] for d in data.description)\n",
    "    csv_out.writerows(data.fetchall())\n",
    "\n",
    "conn_db.close()"
   ]
  },
  {
   "cell_type": "markdown",
   "metadata": {},
   "source": [
    "### Хранение полной информации о вакансии полученной через API\n",
    "Буду использовать свою любимую NoSQL базу MongoDB\n",
    "\n",
    "Ps. Вообще, при большом желании можно использовать ту же базу sqlite, но для этого придется написать больше обработок"
   ]
  },
  {
   "cell_type": "code",
   "execution_count": 16,
   "metadata": {},
   "outputs": [],
   "source": [
    "# Подключаем облачную базу Mongo\n",
    "from pymongo import MongoClient\n",
    "from pymongo import ASCENDING\n",
    "from pymongo import errors\n",
    "client = MongoClient('mongodb://hr_user:hr@ds115219.mlab.com:15219/hr_db')\n",
    "db = client.hr_db\n",
    "VacancyMongo = db.Vacancy"
   ]
  },
  {
   "cell_type": "code",
   "execution_count": 17,
   "metadata": {},
   "outputs": [],
   "source": [
    "# result = VacancyMongo.create_index([('id', ASCENDING)], unique=True)\n",
    "# sorted(list(VacancyMongo.index_information()))\n",
    "# result = VacancyMongo.create_index([('date_load', ASCENDING)], unique=False)\n",
    "# sorted(list(VacancyMongo.index_information()))"
   ]
  },
  {
   "cell_type": "code",
   "execution_count": 18,
   "metadata": {},
   "outputs": [],
   "source": [
    "# Получение справочника\n",
    "def get_dictionaries():\n",
    "    conn = http.client.HTTPSConnection(\"api.hh.ru\")\n",
    "    conn.request(\"GET\", \"https://api.hh.ru/dictionaries\", headers=headers)\n",
    "    response = conn.getresponse()\n",
    "    if response.status != 200:\n",
    "        conn.close()\n",
    "        conn = http.client.HTTPSConnection(\"api.hh.ru\")\n",
    "        conn.request(\"GET\", \"https://api.hh.ru/dictionaries\", headers=headers)\n",
    "        response = conn.getresponse()\n",
    "    dictionaries = response.read()\n",
    "    dictionaries_json = json.loads(dictionaries)\n",
    "\n",
    "    return dictionaries_json"
   ]
  },
  {
   "cell_type": "markdown",
   "metadata": {},
   "source": [
    "Для оптимизации и уменьшения количества обрабатываемых вакансий, будем инсертить только новые"
   ]
  },
  {
   "cell_type": "code",
   "execution_count": 19,
   "metadata": {},
   "outputs": [],
   "source": [
    "# В зависимости от требований, можно брать разные массивы вакансий\n",
    "# в нашем примере будем обрабатывать вакансии за последние 5 дней\n",
    "def get_list_of_vacancies_sql():\n",
    "    \n",
    "    conn_db = sqlite3.connect('hr.db', timeout=10)\n",
    "    conn_db.row_factory = lambda cursor, row: row[0]\n",
    "    c = conn_db.cursor()\n",
    "    items = c.execute(\"\"\"\n",
    "                select \n",
    "                    distinct id_vacancy\n",
    "                from vacancy_history\n",
    "                where date(date_load) >= date('now', '-5 day')\n",
    "            \"\"\").fetchall()\n",
    "    \n",
    "    #items = c.fetchall()    \n",
    "    conn_db.close()\n",
    "    return items"
   ]
  },
  {
   "cell_type": "code",
   "execution_count": 20,
   "metadata": {},
   "outputs": [],
   "source": [
    "def get_list_of_vacancies_nosql():\n",
    "    \n",
    "    date_load = (dt.datetime.now() - td(days=5)).strftime('%Y-%m-%d')\n",
    "    vacancies_from_mongo = []\n",
    "\n",
    "    for item in VacancyMongo.find({\"date_load\" : {\"$gte\" : date_load}}, {\"id\" : 1, \"_id\" : 0}):\n",
    "        vacancies_from_mongo.append(int(item['id']))\n",
    "   \n",
    "    return vacancies_from_mongo"
   ]
  },
  {
   "cell_type": "code",
   "execution_count": 21,
   "metadata": {},
   "outputs": [],
   "source": [
    "from nltk.stem.snowball import SnowballStemmer\n",
    "stemmer = SnowballStemmer(\"russian\") "
   ]
  },
  {
   "cell_type": "code",
   "execution_count": 22,
   "metadata": {},
   "outputs": [],
   "source": [
    "def vacancies_processing(vacancies_list):\n",
    "    \n",
    "    cur_date = dt.datetime.now().strftime('%Y-%m-%d')\n",
    "\n",
    "    for vacancy_id in vacancies_list:\n",
    "        conn = http.client.HTTPSConnection(\"api.hh.ru\")\n",
    "        conn.request(\"GET\", \"/vacancies/{}\".format(vacancy_id), headers=headers)\n",
    "        response = conn.getresponse()\n",
    "        if response.status != 404:\n",
    "            vacancy_txt = response.read()\n",
    "            conn.close()\n",
    "            vacancy = json.loads(vacancy_txt)\n",
    "\n",
    "            # salary\n",
    "            salary = None\n",
    "            if 'salary' in vacancy:\n",
    "                if vacancy['salary'] != None:\n",
    "                    if vacancy['salary']['from'] == None and vacancy['salary']['to'] != None:\n",
    "                        salary = vacancy['salary']['to'] / currency_rates[vacancy['salary']['currency']]\n",
    "                    elif vacancy['salary']['to'] == None and vacancy['salary']['from'] != None:\n",
    "                        salary = vacancy['salary']['from'] / currency_rates[vacancy['salary']['currency']]\n",
    "                    elif vacancy['salary']['to'] != None and vacancy['salary']['from'] != None:\n",
    "                        salary = ((vacancy['salary']['from'] + vacancy['salary']['to']) / 2) \\\n",
    "                            / currency_rates[vacancy['salary']['currency']]\n",
    "\n",
    "                max_salary = 500000\n",
    "                if salary is not None:\n",
    "                    salary = int(salary)\n",
    "                    if salary >= max_salary:\n",
    "                        salary = max_salary\n",
    "\n",
    "            # grade\n",
    "            grade = None\n",
    "            if 'name' in vacancy:\n",
    "                p_grade = ''\n",
    "                title = re.sub(u'[^a-zа-я]+', ' ', vacancy['name'].lower(), re.UNICODE)\n",
    "                words = re.split(r'\\s{1,}', title.strip())\n",
    "                for title_word in words:\n",
    "                    title_word = stemmer.stem(title_word)\n",
    "                    if len(title_word.strip()) > 1:\n",
    "                        p_grade = p_grade + \" \" + title_word.strip()\n",
    "\n",
    "                if re.search('(главн)|(princip)', p_grade):\n",
    "                    grade = 'principal'    \n",
    "                elif re.search('(ведущ)|(senior)|(lead)|(expert)|([f|F]ull)', p_grade):\n",
    "                    grade = 'senior'\n",
    "                elif re.search('(middl)|(инженер)|(программист)|(специалист)|(разработчик)|(engineer)|(developer)', p_grade):\n",
    "                    grade = 'middle'\n",
    "                elif re.search('(помощник)|(junior)|(начин)|(младш)', p_grade):\n",
    "                    grade = 'junior'\n",
    "                elif re.search('(руководител)|(менеджер)|(начальник)|(manager)|(head)', p_grade):\n",
    "                    grade = 'manager'\n",
    "                else:\n",
    "                    grade = 'not specify'\n",
    "\n",
    "\n",
    "            vacancy['salary_processed'] = salary\n",
    "            vacancy['date_load'] = cur_date\n",
    "            vacancy['grade'] = grade\n",
    "            vacancy.pop('branded_description', None)\n",
    "\n",
    "            try:\n",
    "                post_id = VacancyMongo.insert_one(vacancy)\n",
    "            except errors.DuplicateKeyError:\n",
    "                print ('Cant insert the duplicate vacancy_id:', vacancy['id'])"
   ]
  },
  {
   "cell_type": "markdown",
   "metadata": {},
   "source": [
    "Нахожу разницу между двумя массивами, обрабатываю только те вакансии, которые еще не были загружены\n",
    "\n",
    "Для оптимизации - разбиваю массив на 500 элементов"
   ]
  },
  {
   "cell_type": "code",
   "execution_count": 23,
   "metadata": {},
   "outputs": [],
   "source": [
    "hh_dictionary = get_dictionaries()\n",
    "currencies = hh_dictionary['currency']\n",
    "currency_rates = {}\n",
    "for currency in currencies:\n",
    "    currency_rates[currency['code']] = currency['rate']   "
   ]
  },
  {
   "cell_type": "code",
   "execution_count": 41,
   "metadata": {},
   "outputs": [
    {
     "name": "stdout",
     "output_type": "stream",
     "text": [
      "sql_list: 7661\n",
      "mongo_list: 7630\n",
      "vac_for_proс: 31\n",
      "vac_id_chunks: 1\n"
     ]
    }
   ],
   "source": [
    "sql_list = get_list_of_vacancies_sql()\n",
    "mongo_list = get_list_of_vacancies_nosql()\n",
    "vac_for_proс = []\n",
    "\n",
    "s = set(mongo_list)\n",
    "vac_for_proс = [x for x in sql_list if x not in s]\n",
    "\n",
    "vac_id_chunks = [vac_for_proс[x: x + 500] for x in range(0, len(vac_for_proс), 500)]\n",
    "t_num = 1\n",
    "threads = []\n",
    "\n",
    "print('sql_list:', len(sql_list))\n",
    "print('mongo_list:', len(mongo_list))\n",
    "print('vac_for_proс:', len(vac_for_proс))\n",
    "print('vac_id_chunks:', len(vac_id_chunks))"
   ]
  },
  {
   "cell_type": "code",
   "execution_count": 25,
   "metadata": {},
   "outputs": [
    {
     "name": "stdout",
     "output_type": "stream",
     "text": [
      "starting 1\n",
      "starting 2\n"
     ]
    }
   ],
   "source": [
    "for vac_id_chunk in vac_id_chunks:\n",
    "    print('starting', t_num)\n",
    "    t_num = t_num + 1\n",
    "    t = threading.Thread(target=vacancies_processing, kwargs={'vacancies_list': vac_id_chunk})\n",
    "    threads.append(t)\n",
    "    t.start()\n",
    "    \n",
    "for t in threads:\n",
    "    t.join()"
   ]
  },
  {
   "cell_type": "markdown",
   "metadata": {},
   "source": [
    "Имея в распоряжении собранную базу данных, можем выполнять различные аналитические выборки\n",
    "\n",
    "Выведу ТОП-10 вакансий Python - разработчиков с самой высокой зарплатой"
   ]
  },
  {
   "cell_type": "code",
   "execution_count": 43,
   "metadata": {},
   "outputs": [
    {
     "data": {
      "text/html": [
       "<div>\n",
       "<style scoped>\n",
       "    .dataframe tbody tr th:only-of-type {\n",
       "        vertical-align: middle;\n",
       "    }\n",
       "\n",
       "    .dataframe tbody tr th {\n",
       "        vertical-align: top;\n",
       "    }\n",
       "\n",
       "    .dataframe thead th {\n",
       "        text-align: right;\n",
       "    }\n",
       "</style>\n",
       "<table border=\"1\" class=\"dataframe\">\n",
       "  <thead>\n",
       "    <tr style=\"text-align: right;\">\n",
       "      <th></th>\n",
       "      <th>grade</th>\n",
       "      <th>name</th>\n",
       "      <th>name</th>\n",
       "      <th>salary_processed</th>\n",
       "    </tr>\n",
       "  </thead>\n",
       "  <tbody>\n",
       "    <tr>\n",
       "      <th>286</th>\n",
       "      <td>senior</td>\n",
       "      <td>Web Team Lead / Архитектор (Python/Django/React)</td>\n",
       "      <td>Investex Ltd</td>\n",
       "      <td>293901.0</td>\n",
       "    </tr>\n",
       "    <tr>\n",
       "      <th>245</th>\n",
       "      <td>senior</td>\n",
       "      <td>Senior Python разработчик в Черногорию</td>\n",
       "      <td>Betmaster</td>\n",
       "      <td>277141.0</td>\n",
       "    </tr>\n",
       "    <tr>\n",
       "      <th>164</th>\n",
       "      <td>senior</td>\n",
       "      <td>Senior Python разработчик в Черногорию</td>\n",
       "      <td>Betmaster</td>\n",
       "      <td>275289.0</td>\n",
       "    </tr>\n",
       "    <tr>\n",
       "      <th>180</th>\n",
       "      <td>middle</td>\n",
       "      <td>Back-End Web Developer (Python)</td>\n",
       "      <td>Soshace</td>\n",
       "      <td>250000.0</td>\n",
       "    </tr>\n",
       "    <tr>\n",
       "      <th>224</th>\n",
       "      <td>middle</td>\n",
       "      <td>Back-End Web Developer (Python)</td>\n",
       "      <td>Soshace</td>\n",
       "      <td>250000.0</td>\n",
       "    </tr>\n",
       "    <tr>\n",
       "      <th>295</th>\n",
       "      <td>senior</td>\n",
       "      <td>Lead Python Engineer for a Swiss Startup</td>\n",
       "      <td>Assaia International AG</td>\n",
       "      <td>250000.0</td>\n",
       "    </tr>\n",
       "    <tr>\n",
       "      <th>74</th>\n",
       "      <td>middle</td>\n",
       "      <td>Back-End Web Developer (Python)</td>\n",
       "      <td>Soshace</td>\n",
       "      <td>250000.0</td>\n",
       "    </tr>\n",
       "    <tr>\n",
       "      <th>142</th>\n",
       "      <td>middle</td>\n",
       "      <td>Back-End Web Developer (Python)</td>\n",
       "      <td>Soshace</td>\n",
       "      <td>250000.0</td>\n",
       "    </tr>\n",
       "    <tr>\n",
       "      <th>115</th>\n",
       "      <td>senior</td>\n",
       "      <td>Python teamlead</td>\n",
       "      <td>DigitalHR</td>\n",
       "      <td>230000.0</td>\n",
       "    </tr>\n",
       "    <tr>\n",
       "      <th>94</th>\n",
       "      <td>senior</td>\n",
       "      <td>Ведущий разработчик (Python, PHP, Javascript)</td>\n",
       "      <td>IK GROUP</td>\n",
       "      <td>220231.0</td>\n",
       "    </tr>\n",
       "  </tbody>\n",
       "</table>\n",
       "</div>"
      ],
      "text/plain": [
       "      grade                                              name  \\\n",
       "286  senior  Web Team Lead / Архитектор (Python/Django/React)   \n",
       "245  senior            Senior Python разработчик в Черногорию   \n",
       "164  senior            Senior Python разработчик в Черногорию   \n",
       "180  middle                   Back-End Web Developer (Python)   \n",
       "224  middle                   Back-End Web Developer (Python)   \n",
       "295  senior          Lead Python Engineer for a Swiss Startup   \n",
       "74   middle                   Back-End Web Developer (Python)   \n",
       "142  middle                   Back-End Web Developer (Python)   \n",
       "115  senior                                   Python teamlead   \n",
       "94   senior     Ведущий разработчик (Python, PHP, Javascript)   \n",
       "\n",
       "                        name  salary_processed  \n",
       "286             Investex Ltd          293901.0  \n",
       "245                Betmaster          277141.0  \n",
       "164                Betmaster          275289.0  \n",
       "180                  Soshace          250000.0  \n",
       "224                  Soshace          250000.0  \n",
       "295  Assaia International AG          250000.0  \n",
       "74                   Soshace          250000.0  \n",
       "142                  Soshace          250000.0  \n",
       "115                DigitalHR          230000.0  \n",
       "94                  IK GROUP          220231.0  "
      ]
     },
     "execution_count": 43,
     "metadata": {},
     "output_type": "execute_result"
    }
   ],
   "source": [
    "cursor_mongo = VacancyMongo.find({\"name\" : {\"$regex\" : \".*[pP]ython*\"}})\n",
    "\n",
    "df_mongo = pd.DataFrame(list(cursor_mongo))\n",
    "del df_mongo['_id']\n",
    "\n",
    "pd.concat([df_mongo.drop(['employer'], axis=1), \n",
    "           df_mongo['employer'].apply(pd.Series)['name']], axis=1)[['grade',\n",
    "                                                                    'name', \n",
    "                                                                    'salary_processed'\n",
    "                                                                   ]].sort_values('salary_processed',\n",
    "                                                                                  ascending=False)[:10]"
   ]
  },
  {
   "cell_type": "code",
   "execution_count": 173,
   "metadata": {},
   "outputs": [],
   "source": [
    "cursor_mongo = VacancyMongo.find({\"name\" : {\"$regex\" : \".*[jJ]ava[^sS]\"}, \"address\" : {\"$ne\" : None}})\n",
    "df_mongo = pd.DataFrame(list(cursor_mongo))\n"
   ]
  },
  {
   "cell_type": "code",
   "execution_count": 174,
   "metadata": {},
   "outputs": [
    {
     "data": {
      "text/html": [
       "<div>\n",
       "<style scoped>\n",
       "    .dataframe tbody tr th:only-of-type {\n",
       "        vertical-align: middle;\n",
       "    }\n",
       "\n",
       "    .dataframe tbody tr th {\n",
       "        vertical-align: top;\n",
       "    }\n",
       "\n",
       "    .dataframe thead th {\n",
       "        text-align: right;\n",
       "    }\n",
       "</style>\n",
       "<table border=\"1\" class=\"dataframe\">\n",
       "  <thead>\n",
       "    <tr style=\"text-align: right;\">\n",
       "      <th></th>\n",
       "      <th>metro</th>\n",
       "      <th>count</th>\n",
       "    </tr>\n",
       "  </thead>\n",
       "  <tbody>\n",
       "    <tr>\n",
       "      <th>2</th>\n",
       "      <td>Василеостровская</td>\n",
       "      <td>87</td>\n",
       "    </tr>\n",
       "    <tr>\n",
       "      <th>20</th>\n",
       "      <td>Петроградская</td>\n",
       "      <td>68</td>\n",
       "    </tr>\n",
       "    <tr>\n",
       "      <th>5</th>\n",
       "      <td>Выборгская</td>\n",
       "      <td>46</td>\n",
       "    </tr>\n",
       "    <tr>\n",
       "      <th>24</th>\n",
       "      <td>Площадь Ленина</td>\n",
       "      <td>45</td>\n",
       "    </tr>\n",
       "    <tr>\n",
       "      <th>6</th>\n",
       "      <td>Горьковская</td>\n",
       "      <td>45</td>\n",
       "    </tr>\n",
       "    <tr>\n",
       "      <th>34</th>\n",
       "      <td>Чкаловская</td>\n",
       "      <td>43</td>\n",
       "    </tr>\n",
       "    <tr>\n",
       "      <th>15</th>\n",
       "      <td>Нарвская</td>\n",
       "      <td>32</td>\n",
       "    </tr>\n",
       "    <tr>\n",
       "      <th>23</th>\n",
       "      <td>Площадь Восстания</td>\n",
       "      <td>29</td>\n",
       "    </tr>\n",
       "    <tr>\n",
       "      <th>30</th>\n",
       "      <td>Старая Деревня</td>\n",
       "      <td>29</td>\n",
       "    </tr>\n",
       "    <tr>\n",
       "      <th>7</th>\n",
       "      <td>Елизаровская</td>\n",
       "      <td>27</td>\n",
       "    </tr>\n",
       "  </tbody>\n",
       "</table>\n",
       "</div>"
      ],
      "text/plain": [
       "                metro  count\n",
       "2    Василеостровская     87\n",
       "20      Петроградская     68\n",
       "5          Выборгская     46\n",
       "24     Площадь Ленина     45\n",
       "6         Горьковская     45\n",
       "34         Чкаловская     43\n",
       "15           Нарвская     32\n",
       "23  Площадь Восстания     29\n",
       "30     Старая Деревня     29\n",
       "7        Елизаровская     27"
      ]
     },
     "execution_count": 174,
     "metadata": {},
     "output_type": "execute_result"
    }
   ],
   "source": [
    "df_mongo['metro'] = df_mongo.apply(lambda x: x['address']['metro']['station_name']\n",
    "                                   if x['address']['metro'] is not None \n",
    "                                   else None, axis = 1)\n",
    "\n",
    "df_mongo.groupby('metro')['_id'] \\\n",
    "                                .count() \\\n",
    "                                .reset_index(name='count') \\\n",
    "                                .sort_values(['count'], ascending=False) \\\n",
    "                                [:10]\n"
   ]
  }
 ],
 "metadata": {
  "kernelspec": {
   "display_name": "Python 3",
   "language": "python",
   "name": "python3"
  },
  "language_info": {
   "codemirror_mode": {
    "name": "ipython",
    "version": 3
   },
   "file_extension": ".py",
   "mimetype": "text/x-python",
   "name": "python",
   "nbconvert_exporter": "python",
   "pygments_lexer": "ipython3",
   "version": "3.6.5"
  }
 },
 "nbformat": 4,
 "nbformat_minor": 2
}
